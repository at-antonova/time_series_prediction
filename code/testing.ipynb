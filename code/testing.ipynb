{
 "cells": [
  {
   "cell_type": "code",
   "execution_count": 4,
   "metadata": {},
   "outputs": [],
   "source": [
    "import numpy as np\n",
    "from sklearn.cluster import OPTICS\n",
    "import pickle\n",
    "import seaborn as sns\n",
    "import matplotlib.pyplot as plt\n",
    "import pandas as pd\n",
    "from itertools import product, islice, cycle, combinations\n",
    "from collections import defaultdict\n",
    "from scipy.special import gamma"
   ]
  },
  {
   "cell_type": "code",
   "execution_count": 5,
   "metadata": {},
   "outputs": [],
   "source": [
    "ROOT_PATH = '/Users/nastya/dev/time_series_prediction/'"
   ]
  },
  {
   "cell_type": "code",
   "execution_count": 6,
   "metadata": {},
   "outputs": [],
   "source": [
    "with open(ROOT_PATH + 'data/lorenz.dat', 'rb') as f:\n",
    "    Y = pickle.load(f)\n",
    "n_train = 10_000\n",
    "n_test = 1_000 + 300 # to get test set of 1000\n",
    "n_passed = 3_000\n",
    "n_valid = 2_000\n",
    "\n",
    "Y1 = np.array(Y[n_passed:n_passed + n_train]).reshape(-1)\n",
    "Y2 = np.array(Y[n_passed + n_train:n_passed + n_train + n_test]).reshape(-1)\n",
    "Y3 = np.array(Y[n_passed + n_train + n_test:n_passed + n_train + n_test + n_valid]).reshape(-1)"
   ]
  },
  {
   "cell_type": "code",
   "execution_count": 13,
   "metadata": {},
   "outputs": [
    {
     "data": {
      "text/plain": [
       "0.01363150953229797"
      ]
     },
     "execution_count": 13,
     "metadata": {},
     "output_type": "execute_result"
    }
   ],
   "source": [
    "with open('/Users/nastya/dev/time_series_prediction/results/predictions/05.23/lorenz_pm_200.dat', 'rb') as f:\n",
    "    pm = pickle.load(f)\n",
    "\n",
    "Y_true = Y2[231:331]\n",
    "Y_pred = pm[-1][100:]\n",
    "\n",
    "from sklearn.metrics import r2_score\n",
    "predictable = np.argwhere(Y_pred != 'N').reshape(1, -1)[0]\n",
    "r2_score(np.take(Y_true, predictable), np.take(Y_pred, predictable).astype(float))"
   ]
  }
 ],
 "metadata": {
  "interpreter": {
   "hash": "68c5798ad6d2f5257171d14e7c8f9787c21f6d8ce466d9b48c80f6dfc53aa0ad"
  },
  "kernelspec": {
   "display_name": "Python 3.9.7 ('minimal_ds')",
   "language": "python",
   "name": "python3"
  },
  "language_info": {
   "codemirror_mode": {
    "name": "ipython",
    "version": 3
   },
   "file_extension": ".py",
   "mimetype": "text/x-python",
   "name": "python",
   "nbconvert_exporter": "python",
   "pygments_lexer": "ipython3",
   "version": "3.9.7"
  },
  "orig_nbformat": 4
 },
 "nbformat": 4,
 "nbformat_minor": 2
}
