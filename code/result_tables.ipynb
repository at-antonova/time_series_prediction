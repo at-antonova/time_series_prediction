{
 "cells": [
  {
   "cell_type": "markdown",
   "metadata": {},
   "source": [
    "### Imports"
   ]
  },
  {
   "cell_type": "code",
   "execution_count": 1,
   "metadata": {},
   "outputs": [],
   "source": [
    "import pandas as pd\n",
    "import numpy as np\n",
    "import pickle\n",
    "from sklearn.metrics import mean_absolute_percentage_error, mean_squared_error"
   ]
  },
  {
   "cell_type": "code",
   "execution_count": 2,
   "metadata": {},
   "outputs": [],
   "source": [
    "ROOT_PATH = '/Users/nastya/dev/time_series_prediction/'"
   ]
  },
  {
   "cell_type": "markdown",
   "metadata": {},
   "source": [
    "### Base algorithm errors"
   ]
  },
  {
   "cell_type": "code",
   "execution_count": 50,
   "metadata": {},
   "outputs": [],
   "source": [
    "errors_table = pd.DataFrame(columns=[('beta, %', ''), ('strategy / UP', ''), \\\n",
    "    ('NP', ''), ('Self-healing', ''), \\\n",
    "    ('h=1', 'NP, %'), ('h=1', 'MAPE, %'), ('h=1', 'RMSE'),\\\n",
    "    ('h=10', 'NP, %'), ('h=10', 'MAPE, %'), ('h=10', 'RMSE'),\n",
    "    ('h=50', 'NP, %'), ('h=50', 'MAPE, %'), ('h=50', 'RMSE'),\n",
    "    ('h=100', 'NP, %'), ('h=100', 'MAPE, %'), ('h=100', 'RMSE')])"
   ]
  },
  {
   "cell_type": "code",
   "execution_count": 51,
   "metadata": {},
   "outputs": [],
   "source": [
    "errors_table.columns = pd.MultiIndex.from_tuples(errors_table.columns)"
   ]
  },
  {
   "cell_type": "code",
   "execution_count": 4,
   "metadata": {},
   "outputs": [],
   "source": [
    "errors_table_template = {\n",
    "    ('beta, %', '') : 0, \n",
    "    ('strategy / UP', '') : 0, \n",
    "    ('NP', '') : 0, \n",
    "    ('Self-healing', '') : 0,\n",
    "    ('h=1', 'NP, %') : 0, \n",
    "    ('h=1', 'MAPE, %') : 0,\n",
    "    ('h=1', 'RMSE') : 0,\n",
    "    ('h=10', 'NP, %') : 0, \n",
    "    ('h=10', 'MAPE, %') : 0, \n",
    "    ('h=10', 'RMSE') : 0,\n",
    "    ('h=50', 'NP, %') : 0,\n",
    "    ('h=50', 'MAPE, %') : 0, \n",
    "    ('h=50', 'RMSE') : 0,\n",
    "    ('h=100', 'NP, %') : 0, \n",
    "    ('h=100', 'MAPE, %') : 0, \n",
    "    ('h=100', 'RMSE') : 0\n",
    "}"
   ]
  },
  {
   "cell_type": "code",
   "execution_count": 21,
   "metadata": {},
   "outputs": [],
   "source": [
    "def non_pred(Y_pred):\n",
    "    h = len(Y_pred)\n",
    "    return np.count_nonzero(Y_pred == 'N') / h * 100\n",
    "\n",
    "def rmse(Y_true, Y_pred):\n",
    "    predictable = np.argwhere(Y_pred != 'N').reshape(1, -1)[0]\n",
    "    if len(predictable) == 0:\n",
    "        return 0\n",
    "    return np.sqrt(mean_squared_error(np.take(Y_true, predictable), \\\n",
    "        np.take(Y_pred, predictable)))\n",
    "\n",
    "def mape(Y_true, Y_pred):\n",
    "    predictable = np.argwhere(Y_pred != 'N').reshape(1, -1)[0]\n",
    "    if len(predictable) == 0:\n",
    "        return 0\n",
    "    return mean_absolute_percentage_error(np.take(Y_true, predictable), \\\n",
    "        np.take(Y_pred, predictable))"
   ]
  },
  {
   "cell_type": "code",
   "execution_count": 7,
   "metadata": {},
   "outputs": [],
   "source": [
    "# Y = pd.read_csv(ROOT_PATH + 'data/lorenz.txt', sep=\"\\n\", header=None)\n",
    "with open(ROOT_PATH + 'data/lorenz.dat', 'rb') as f:\n",
    "    Y = pickle.load(f)\n",
    "n_train = 10_000\n",
    "n_test = 1_000 + 300 # to get test set of 1000\n",
    "n_passed = 3_000\n",
    "n_valid = 2_000\n",
    "\n",
    "# min_Y = min(Y)\n",
    "# max_Y = max(Y)\n",
    "# Y = [(y - min_Y) / (max_Y - min_Y) for y in Y]\n",
    "\n",
    "Y1 = np.array(Y[n_passed:n_passed + n_train]).reshape(-1)\n",
    "Y2 = np.array(Y[n_passed + n_train:n_passed + n_train + n_test]).reshape(-1)\n",
    "Y3 = np.array(Y[n_passed + n_train + n_test:n_passed + n_train + n_test + n_valid]).reshape(-1)\n",
    "Y_true = Y2[131:]"
   ]
  },
  {
   "cell_type": "code",
   "execution_count": 52,
   "metadata": {},
   "outputs": [],
   "source": [
    "# putting in np_method experiment\n",
    "def add_row(errors_table, pm_filepath, beta, strategy_up, np_method, self_healing):\n",
    "    with open(pm_filepath, 'rb') as f:\n",
    "        pm = pickle.load(f)\n",
    "    n_iterations = len(pm[0])\n",
    "\n",
    "    if errors_table[(errors_table[('beta, %', '')] == beta) &\\\n",
    "                    (errors_table[('strategy / UP', '')] == strategy_up) &\\\n",
    "                    (errors_table[('NP', '')] == np_method) &\\\n",
    "                    (errors_table[('Self-healing', '')] == self_healing)].shape[0] > 0:\n",
    "        return errors_table\n",
    "\n",
    "    errors_table = errors_table.append({\n",
    "        ('beta, %', '') : beta, \n",
    "        ('strategy / UP', '') : strategy_up, \n",
    "        ('NP', '') : np_method, \n",
    "        ('Self-healing', '') : self_healing,\n",
    "        ('h=1', 'NP, %') : non_pred(pm[1]), \n",
    "        ('h=1', 'MAPE, %') : mape(Y_true[:n_iterations], pm[1]) * 100,\n",
    "        ('h=1', 'RMSE') : rmse(Y_true[:n_iterations], pm[1]),\n",
    "        ('h=10', 'NP, %') : non_pred(pm[10]), \n",
    "        ('h=10', 'MAPE, %') : mape(Y_true[:n_iterations], pm[10]) * 100, \n",
    "        ('h=10', 'RMSE') : rmse(Y_true[:n_iterations], pm[10]),\n",
    "        ('h=50', 'NP, %') : non_pred(pm[50]),\n",
    "        ('h=50', 'MAPE, %') : mape(Y_true[:n_iterations], pm[50]) * 100, \n",
    "        ('h=50', 'RMSE') : rmse(Y_true[:n_iterations], pm[50]),\n",
    "        ('h=100', 'NP, %') : non_pred(pm[100]), \n",
    "        ('h=100', 'MAPE, %') : mape(Y_true[:n_iterations], pm[100]) * 100, \n",
    "        ('h=100', 'RMSE') : rmse(Y_true[:n_iterations], pm[100])\n",
    "        }, ignore_index=True)\n",
    "    return errors_table"
   ]
  },
  {
   "cell_type": "code",
   "execution_count": 53,
   "metadata": {},
   "outputs": [
    {
     "name": "stdout",
     "output_type": "stream",
     "text": [
      "1000\n",
      "1000\n",
      "1000\n",
      "1000\n",
      "1000\n",
      "1000\n"
     ]
    }
   ],
   "source": [
    "errors_table = add_row(errors_table, ROOT_PATH + 'results/predictions/base_b20/pm_fp.dat', 20, 's / db', 'fp', 'n')\n",
    "errors_table = add_row(errors_table, ROOT_PATH + 'results/predictions/base_b20/pm_rd.dat', 20, 's / db', 'rd', 'n')\n",
    "errors_table = add_row(errors_table, ROOT_PATH + 'results/predictions/base_b20/pm_ls.dat', 20, 's / db', 'ls', 'n')\n",
    "errors_table = add_row(errors_table, ROOT_PATH + 'results/predictions/base_b20/pm_rg.dat', 20, 's / db', 'rg', 'n')\n",
    "errors_table = add_row(errors_table, ROOT_PATH + 'results/predictions/base_b20/pm_rw.dat', 20, 's / db', 'rw', 'n')\n",
    "errors_table = add_row(errors_table, ROOT_PATH + 'results/predictions/base_b20/pm_cl_40_oc.dat', 20, 's / db', 'cl_40_oc', 'n')"
   ]
  },
  {
   "cell_type": "code",
   "execution_count": 54,
   "metadata": {},
   "outputs": [
    {
     "data": {
      "text/html": [
       "<div>\n",
       "<style scoped>\n",
       "    .dataframe tbody tr th:only-of-type {\n",
       "        vertical-align: middle;\n",
       "    }\n",
       "\n",
       "    .dataframe tbody tr th {\n",
       "        vertical-align: top;\n",
       "    }\n",
       "\n",
       "    .dataframe thead tr th {\n",
       "        text-align: left;\n",
       "    }\n",
       "</style>\n",
       "<table border=\"1\" class=\"dataframe\">\n",
       "  <thead>\n",
       "    <tr>\n",
       "      <th></th>\n",
       "      <th>beta, %</th>\n",
       "      <th>strategy / UP</th>\n",
       "      <th>NP</th>\n",
       "      <th>Self-healing</th>\n",
       "      <th colspan=\"3\" halign=\"left\">h=1</th>\n",
       "      <th colspan=\"3\" halign=\"left\">h=10</th>\n",
       "      <th colspan=\"3\" halign=\"left\">h=50</th>\n",
       "      <th colspan=\"3\" halign=\"left\">h=100</th>\n",
       "    </tr>\n",
       "    <tr>\n",
       "      <th></th>\n",
       "      <th></th>\n",
       "      <th></th>\n",
       "      <th></th>\n",
       "      <th></th>\n",
       "      <th>NP, %</th>\n",
       "      <th>MAPE, %</th>\n",
       "      <th>RMSE</th>\n",
       "      <th>NP, %</th>\n",
       "      <th>MAPE, %</th>\n",
       "      <th>RMSE</th>\n",
       "      <th>NP, %</th>\n",
       "      <th>MAPE, %</th>\n",
       "      <th>RMSE</th>\n",
       "      <th>NP, %</th>\n",
       "      <th>MAPE, %</th>\n",
       "      <th>RMSE</th>\n",
       "    </tr>\n",
       "  </thead>\n",
       "  <tbody>\n",
       "    <tr>\n",
       "      <th>0</th>\n",
       "      <td>20</td>\n",
       "      <td>s / db</td>\n",
       "      <td>fp</td>\n",
       "      <td>n</td>\n",
       "      <td>31.9</td>\n",
       "      <td>2.687178</td>\n",
       "      <td>0.024682</td>\n",
       "      <td>41.1</td>\n",
       "      <td>6.137749</td>\n",
       "      <td>0.048368</td>\n",
       "      <td>61.9</td>\n",
       "      <td>70.139778</td>\n",
       "      <td>0.299465</td>\n",
       "      <td>73.7</td>\n",
       "      <td>68.263074</td>\n",
       "      <td>0.318410</td>\n",
       "    </tr>\n",
       "    <tr>\n",
       "      <th>1</th>\n",
       "      <td>20</td>\n",
       "      <td>s / db</td>\n",
       "      <td>rd</td>\n",
       "      <td>n</td>\n",
       "      <td>32.4</td>\n",
       "      <td>2.666047</td>\n",
       "      <td>0.024084</td>\n",
       "      <td>45.0</td>\n",
       "      <td>5.946253</td>\n",
       "      <td>0.048923</td>\n",
       "      <td>68.7</td>\n",
       "      <td>57.711004</td>\n",
       "      <td>0.278128</td>\n",
       "      <td>80.0</td>\n",
       "      <td>74.748519</td>\n",
       "      <td>0.309771</td>\n",
       "    </tr>\n",
       "    <tr>\n",
       "      <th>2</th>\n",
       "      <td>20</td>\n",
       "      <td>s / db</td>\n",
       "      <td>ls</td>\n",
       "      <td>n</td>\n",
       "      <td>83.6</td>\n",
       "      <td>1.048291</td>\n",
       "      <td>0.008025</td>\n",
       "      <td>83.3</td>\n",
       "      <td>2.720782</td>\n",
       "      <td>0.017645</td>\n",
       "      <td>100.0</td>\n",
       "      <td>0.000000</td>\n",
       "      <td>0.000000</td>\n",
       "      <td>100.0</td>\n",
       "      <td>0.000000</td>\n",
       "      <td>0.000000</td>\n",
       "    </tr>\n",
       "    <tr>\n",
       "      <th>3</th>\n",
       "      <td>20</td>\n",
       "      <td>s / db</td>\n",
       "      <td>rg</td>\n",
       "      <td>n</td>\n",
       "      <td>31.9</td>\n",
       "      <td>2.687178</td>\n",
       "      <td>0.024682</td>\n",
       "      <td>45.5</td>\n",
       "      <td>6.115934</td>\n",
       "      <td>0.049349</td>\n",
       "      <td>75.4</td>\n",
       "      <td>73.090579</td>\n",
       "      <td>0.290742</td>\n",
       "      <td>91.4</td>\n",
       "      <td>98.252740</td>\n",
       "      <td>0.289827</td>\n",
       "    </tr>\n",
       "    <tr>\n",
       "      <th>4</th>\n",
       "      <td>20</td>\n",
       "      <td>s / db</td>\n",
       "      <td>rw</td>\n",
       "      <td>n</td>\n",
       "      <td>32.9</td>\n",
       "      <td>2.670949</td>\n",
       "      <td>0.024152</td>\n",
       "      <td>52.2</td>\n",
       "      <td>5.636543</td>\n",
       "      <td>0.046102</td>\n",
       "      <td>83.7</td>\n",
       "      <td>59.879716</td>\n",
       "      <td>0.241407</td>\n",
       "      <td>96.4</td>\n",
       "      <td>124.601875</td>\n",
       "      <td>0.344821</td>\n",
       "    </tr>\n",
       "    <tr>\n",
       "      <th>5</th>\n",
       "      <td>20</td>\n",
       "      <td>s / db</td>\n",
       "      <td>cl_40_oc</td>\n",
       "      <td>n</td>\n",
       "      <td>42.1</td>\n",
       "      <td>2.552072</td>\n",
       "      <td>0.025064</td>\n",
       "      <td>54.2</td>\n",
       "      <td>5.724651</td>\n",
       "      <td>0.049436</td>\n",
       "      <td>80.9</td>\n",
       "      <td>65.726679</td>\n",
       "      <td>0.282946</td>\n",
       "      <td>87.3</td>\n",
       "      <td>79.023686</td>\n",
       "      <td>0.340574</td>\n",
       "    </tr>\n",
       "  </tbody>\n",
       "</table>\n",
       "</div>"
      ],
      "text/plain": [
       "  beta, % strategy / UP        NP Self-healing   h=1                      \\\n",
       "                                               NP, %   MAPE, %      RMSE   \n",
       "0      20        s / db        fp            n  31.9  2.687178  0.024682   \n",
       "1      20        s / db        rd            n  32.4  2.666047  0.024084   \n",
       "2      20        s / db        ls            n  83.6  1.048291  0.008025   \n",
       "3      20        s / db        rg            n  31.9  2.687178  0.024682   \n",
       "4      20        s / db        rw            n  32.9  2.670949  0.024152   \n",
       "5      20        s / db  cl_40_oc            n  42.1  2.552072  0.025064   \n",
       "\n",
       "   h=10                       h=50                       h=100              \\\n",
       "  NP, %   MAPE, %      RMSE  NP, %    MAPE, %      RMSE  NP, %     MAPE, %   \n",
       "0  41.1  6.137749  0.048368   61.9  70.139778  0.299465   73.7   68.263074   \n",
       "1  45.0  5.946253  0.048923   68.7  57.711004  0.278128   80.0   74.748519   \n",
       "2  83.3  2.720782  0.017645  100.0   0.000000  0.000000  100.0    0.000000   \n",
       "3  45.5  6.115934  0.049349   75.4  73.090579  0.290742   91.4   98.252740   \n",
       "4  52.2  5.636543  0.046102   83.7  59.879716  0.241407   96.4  124.601875   \n",
       "5  54.2  5.724651  0.049436   80.9  65.726679  0.282946   87.3   79.023686   \n",
       "\n",
       "             \n",
       "       RMSE  \n",
       "0  0.318410  \n",
       "1  0.309771  \n",
       "2  0.000000  \n",
       "3  0.289827  \n",
       "4  0.344821  \n",
       "5  0.340574  "
      ]
     },
     "execution_count": 54,
     "metadata": {},
     "output_type": "execute_result"
    }
   ],
   "source": [
    "errors_table"
   ]
  },
  {
   "cell_type": "code",
   "execution_count": 45,
   "metadata": {},
   "outputs": [],
   "source": [
    "errors_table.to_csv(ROOT_PATH + 'results/1_errors_table.csv')"
   ]
  },
  {
   "cell_type": "markdown",
   "metadata": {},
   "source": [
    "### Healing 5 points thrown metrics"
   ]
  },
  {
   "cell_type": "code",
   "execution_count": 9,
   "metadata": {},
   "outputs": [],
   "source": [
    "healing_params = {\n",
    "    'healing_up_method' : 'db', \n",
    "    'weighted_up' : True,  \n",
    "    # {'double_clustering', 'weighred_average', 'pointwise_weights'}\n",
    "    'weight_method' : 'pointwise_weights', \n",
    "    'clear_noise' : True,\n",
    "    'factor' : 0.4,\n",
    "    'alg_type' : 's',\n",
    "    'np_method' : 'rd',\n",
    "    'mc_method' : 'db',\n",
    "    'beta' : 0.2,\n",
    "    'fixed_points' : True,\n",
    "}"
   ]
  },
  {
   "cell_type": "code",
   "execution_count": 10,
   "metadata": {},
   "outputs": [],
   "source": [
    "healing_5_thrown_errors = pd.DataFrame(columns=list(healing_params.keys()) + \\\n",
    "    ['RMSE', 'MAPE', 'non-predictable', 'n_iterations'])"
   ]
  },
  {
   "cell_type": "code",
   "execution_count": 4,
   "metadata": {},
   "outputs": [],
   "source": [
    "healing_5_thrown_errors = pd.read_csv(ROOT_PATH + 'results/graphs/04.01-07/errors.csv', index_col=0)"
   ]
  },
  {
   "cell_type": "code",
   "execution_count": 5,
   "metadata": {},
   "outputs": [
    {
     "data": {
      "text/plain": [
       "Index(['healing_up_method', 'weighted_up', 'weight_method', 'clear_noise',\n",
       "       'factor', 'alg_type', 'np_method', 'mc_method', 'beta', 'fixed_points',\n",
       "       'RMSE', 'MAPE', 'non-predictable', 'n_iterations', 'healing_match_eps'],\n",
       "      dtype='object')"
      ]
     },
     "execution_count": 5,
     "metadata": {},
     "output_type": "execute_result"
    }
   ],
   "source": [
    "healing_5_thrown_errors.columns"
   ]
  },
  {
   "cell_type": "code",
   "execution_count": 60,
   "metadata": {},
   "outputs": [],
   "source": [
    "filename = 'results/predictions/five_thrown_experiments/logs_healing_5_points_thrown_rg_weightedv2_check.dat'\n",
    "with open(ROOT_PATH + filename, 'rb') as f:\n",
    "    up_logs = pickle.load(f)\n",
    "\n",
    "params_and_errors = {\n",
    "    'healing_up_method' : 'db', \n",
    "    'weighted_up' : True,  \n",
    "    # {'double_clustering', 'weighred_average', 'pointwise_weights'}\n",
    "    'weight_method' : 'weighted_average', \n",
    "    'clear_noise' : False,\n",
    "    'factor' : None,\n",
    "    'alg_type' : 's',\n",
    "    'np_method' : 'rd',\n",
    "    'mc_method' : 'db',\n",
    "    'beta' : 0.2,\n",
    "    'fixed_points' : False,\n",
    "    'RMSE' : rmse(Y2[:100], up_logs[-1]),\n",
    "    'MAPE' : mape(Y2[:100], up_logs[-1]),\n",
    "    'non-predictable' : non_pred(up_logs[-1]),\n",
    "    'n_iterations' : len(up_logs),\n",
    "    'healing_match_eps' : 0.01\n",
    "}\n",
    "# params_and_errors\n",
    "\n",
    "healing_5_thrown_errors = healing_5_thrown_errors.append(params_and_errors, \\\n",
    "    ignore_index=True)"
   ]
  },
  {
   "cell_type": "code",
   "execution_count": 59,
   "metadata": {},
   "outputs": [],
   "source": [
    "healing_5_thrown_errors.to_csv(ROOT_PATH + 'results/graphs/04.01-07/errors.csv')"
   ]
  },
  {
   "cell_type": "code",
   "execution_count": 81,
   "metadata": {},
   "outputs": [],
   "source": [
    "with open(ROOT_PATH + 'code/logs_real_prediction_tp_rd_wi_basealg_jdistfactor.dat', 'rb') as f:\n",
    "    up_logs = pickle.load(f)\n",
    "\n",
    "res = {\n",
    "    'alg': 'trajectory prediction + self-healing, rd_wi_basealg_jdistfactor',\n",
    "    'RMSE' : rmse(Y2[:100], up_logs[-1]),\n",
    "    'MAPE' : mape(Y2[:100], up_logs[-1]),\n",
    "    'non-predictable' : non_pred(up_logs[-1]),\n",
    "}"
   ]
  },
  {
   "cell_type": "code",
   "execution_count": 82,
   "metadata": {},
   "outputs": [
    {
     "data": {
      "text/plain": [
       "{'alg': 'trajectory prediction + self-healing, rd_wi_basealg_jdistfactor',\n",
       " 'RMSE': 0.3148395265409664,\n",
       " 'MAPE': 0.5829637404047658,\n",
       " 'non-predictable': 1.0}"
      ]
     },
     "execution_count": 82,
     "metadata": {},
     "output_type": "execute_result"
    }
   ],
   "source": [
    "res"
   ]
  },
  {
   "cell_type": "markdown",
   "metadata": {},
   "source": [
    "### One sample t-test"
   ]
  },
  {
   "cell_type": "code",
   "execution_count": 36,
   "metadata": {},
   "outputs": [],
   "source": [
    "from scipy.stats import ttest_1samp"
   ]
  },
  {
   "cell_type": "code",
   "execution_count": 37,
   "metadata": {},
   "outputs": [],
   "source": [
    "def get_p_value_of_ttest(pm1, pm2, hs1, hs2):\n",
    "    n_iterations = len(pm1[0])\n",
    "    n_test_passed = 131\n",
    "    rmse1 = [rmse(Y2[n_test_passed:n_test_passed + n_iterations], pm1[i]) for i in hs1]\n",
    "    rmse2 = [rmse(Y2[n_test_passed:n_test_passed + n_iterations], pm2[i]) for i in hs2]\n",
    "\n",
    "    statictics, pvalue = ttest_1samp(rmse1, rmse2)\n",
    "    return statictics, pvalue\n"
   ]
  },
  {
   "cell_type": "code",
   "execution_count": 38,
   "metadata": {},
   "outputs": [
    {
     "name": "stdout",
     "output_type": "stream",
     "text": [
      "(array([ 18.5389294 ,  18.49610193,  18.36150667,  18.01089493,\n",
      "        17.80016024,  17.75922264,  17.76365273,  17.59432149,\n",
      "        16.28460815,  16.5263683 ,  15.84480421,  16.86968661,\n",
      "        15.83181959,  14.76849503,  16.3464289 ,  16.81235321,\n",
      "        14.65589928,  15.28381619,  14.60020674,   9.96744838,\n",
      "         8.28962163,   6.45679351,   4.49657343,   4.36619069,\n",
      "         5.46120608,   3.5627119 ,   1.27566976,  -1.55601174,\n",
      "        -4.6389129 ,  -6.39346374,  -7.4044148 ,  -7.88523417,\n",
      "        -7.18186091,  -6.41950657,  -7.67099686,  -9.21967475,\n",
      "       -11.29596402, -11.83509185, -13.11936526, -12.78414277,\n",
      "        -9.14894767,  -5.21776963,  -6.69645507,  -5.73770678,\n",
      "        -7.8553568 , -10.73852954, -11.56355807, -10.81504446,\n",
      "        -7.70122981,  -5.44797377,  -3.76184209,  -1.78483951,\n",
      "        -1.82601283,  -5.00667059,  -5.2144323 ,  -1.17211805,\n",
      "         4.62713069,   5.35971961,   1.17073347,  -3.00678312,\n",
      "        -8.8340582 ,  -9.7200041 , -10.6863969 ,  -5.72652126,\n",
      "        -2.2519642 ,   0.27832353,  -2.17914074,  -4.44950223,\n",
      "        -3.50137863,  -5.34578323,  -7.63823668,  -5.72733501,\n",
      "        -0.75296483,   1.60088606,   1.64316126,  -1.85711352,\n",
      "        -7.77677496,  -9.35900843,  -9.96543521, -10.04953177,\n",
      "        -9.09021403,  -5.84274478,  -6.33374212,  -8.26125283,\n",
      "       -10.17421506, -11.73593798, -11.76166022, -10.63834179,\n",
      "        -7.72559755,  -5.61555607,  -6.60086801,  -7.92837028,\n",
      "        -8.80109332,  -8.76977797,  -8.46469047,  -7.88675416,\n",
      "        -6.5912434 ,  -6.22365363,  -7.09444224,  -6.86539988]), array([5.73688056e-34, 6.85578146e-34, 1.20197476e-33, 5.24473136e-33,\n",
      "       1.28094857e-32, 1.52458216e-32, 1.49610889e-32, 3.08096361e-32,\n",
      "       9.30286273e-30, 3.18954778e-30, 6.64587052e-29, 7.06455294e-31,\n",
      "       7.04569495e-29, 9.04728486e-27, 7.07023466e-30, 9.07730121e-31,\n",
      "       1.52515587e-26, 8.45394827e-28, 1.97577260e-26, 1.28829962e-16,\n",
      "       5.72873545e-13, 4.00261630e-09, 1.87987187e-05, 3.11268435e-05,\n",
      "       3.51912713e-07, 5.66439810e-04, 2.05057384e-01, 1.22896439e-01,\n",
      "       1.07347384e-05, 5.36899345e-09, 4.42239024e-11, 4.22389452e-12,\n",
      "       1.29525780e-10, 4.75880207e-09, 1.20768419e-11, 5.50841900e-15,\n",
      "       1.67165198e-19, 1.15646341e-20, 2.19723289e-23, 1.11101259e-22,\n",
      "       7.85384537e-15, 9.97441922e-07, 1.30501424e-09, 1.04881805e-07,\n",
      "       4.89211579e-12, 2.69605311e-18, 4.42867104e-20, 1.83894224e-18,\n",
      "       1.04167633e-11, 3.72638074e-07, 2.85799547e-04, 7.73501895e-02,\n",
      "       7.08625048e-02, 2.41381049e-06, 1.01162306e-06, 2.43962602e-01,\n",
      "       1.12485940e-05, 5.44870161e-07, 2.44516261e-01, 3.34652247e-03,\n",
      "       3.80138732e-14, 4.46584853e-16, 3.49947762e-18, 1.10204357e-07,\n",
      "       2.65335014e-02, 7.81344496e-01, 3.16933510e-02, 2.25751552e-05,\n",
      "       6.95857571e-04, 5.78400746e-07, 1.41735424e-11, 1.09808350e-07,\n",
      "       4.53257861e-01, 1.12588515e-01, 1.03522020e-01, 6.62678887e-02,\n",
      "       7.19482208e-12, 2.73751163e-15, 1.30139352e-16, 8.53037594e-17,\n",
      "       1.05428668e-14, 6.57520234e-08, 7.07529843e-09, 6.59425983e-13,\n",
      "       4.56120516e-17, 1.88711497e-20, 1.66187321e-20, 4.45103790e-18,\n",
      "       9.24550442e-12, 1.79655143e-07, 2.04402735e-09, 3.41616889e-12,\n",
      "       4.48249430e-14, 5.24193154e-14, 2.40033109e-13, 4.19243969e-12,\n",
      "       2.13823085e-09, 1.17366910e-08, 1.97059175e-10, 5.87379068e-10]))\n"
     ]
    }
   ],
   "source": [
    "with open(ROOT_PATH + 'results/predictions/05.06-13/find best base algorithm/n_iterations 250/pm_cs_0.1_n_1.dat', 'rb') as f:\n",
    "    pm1 = pickle.load(f)\n",
    "\n",
    "with open(ROOT_PATH + 'results/predictions/05.06-13/find best base algorithm/n_iterations 250/pm_cs_0.1_n_5.dat', 'rb') as f:\n",
    "    pm2 = pickle.load(f)\n",
    "\n",
    "hs = list(range(1, 101))\n",
    "print(get_p_value_of_ttest(pm1, pm2, hs, hs))"
   ]
  },
  {
   "cell_type": "code",
   "execution_count": 34,
   "metadata": {},
   "outputs": [
    {
     "name": "stdout",
     "output_type": "stream",
     "text": [
      "[1.         1.         1.         1.         1.         1.\n",
      " 1.         1.         1.         1.         1.         0.92529571\n",
      " 1.         1.         1.         0.87571395 1.         0.87801211\n",
      " 0.89508666 1.         1.         1.         0.81083131 0.7681759\n",
      " 0.82315458 1.         1.         1.         1.         0.84582513\n",
      " 0.74187217 0.7329865  0.83103305 1.         1.         1.\n",
      " 0.82706927 0.79855496 0.76638037 0.74034181 1.         1.\n",
      " 1.         1.         1.         1.         1.         1.\n",
      " 1.         0.87156591 1.         0.74193    0.75361654 0.76585988\n",
      " 0.70527294 0.66159531 0.65680363 0.79805643 0.80371804 0.75558377\n",
      " 0.8318882  1.         0.84766569 0.95675549 0.77000257 0.83923799\n",
      " 0.72851321 0.73012323 0.83358297 0.89036872 0.79537394 0.74828289\n",
      " 0.82307597 0.92811665 0.89839018 1.         0.74711314 0.6918662\n",
      " 0.74146065 0.77611698 0.80365692 0.92304216 0.66016829 0.77106963\n",
      " 0.72566718 0.70907739 0.69307186 0.72248493 0.8944564  1.\n",
      " 1.         1.         1.         1.         1.         1.\n",
      " 1.         1.         1.         1.        ]\n"
     ]
    }
   ],
   "source": [
    "from scipy.stats.distributions import chi2\n",
    "n_iterations = len(pm1[0])\n",
    "n_test_passed = 131\n",
    "rmse1 = [rmse(Y2[n_test_passed:n_test_passed + n_iterations], pm1[i]) for i in hs]\n",
    "rmse2 = [rmse(Y2[n_test_passed:n_test_passed + n_iterations], pm2[i]) for i in hs]\n",
    "\n",
    "\n",
    "def likelihood_ratio(llmin, llmax):\n",
    "    return(2*(llmax-llmin))\n",
    "\n",
    "\n",
    "LR = likelihood_ratio(np.array(rmse1), np.array(rmse2))\n",
    "p = chi2.sf(LR, 1)\n",
    "print(p)"
   ]
  }
 ],
 "metadata": {
  "interpreter": {
   "hash": "68c5798ad6d2f5257171d14e7c8f9787c21f6d8ce466d9b48c80f6dfc53aa0ad"
  },
  "kernelspec": {
   "display_name": "Python 3.9.7 ('minimal_ds')",
   "language": "python",
   "name": "python3"
  },
  "language_info": {
   "codemirror_mode": {
    "name": "ipython",
    "version": 3
   },
   "file_extension": ".py",
   "mimetype": "text/x-python",
   "name": "python",
   "nbconvert_exporter": "python",
   "pygments_lexer": "ipython3",
   "version": "3.9.7"
  },
  "orig_nbformat": 4
 },
 "nbformat": 4,
 "nbformat_minor": 2
}
